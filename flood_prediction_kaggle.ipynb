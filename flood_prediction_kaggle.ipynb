{
 "cells": [
  {
   "cell_type": "markdown",
   "id": "b457af65",
   "metadata": {
    "colab_type": "text",
    "id": "view-in-github"
   },
   "source": [
    "# MÔ HÌNH DỰ BÁO NGUY CƠ NGẬP LỤT SỬ DỤNG RANDOM FOREST\n",
    "\n",
    "Notebook này thực hiện các bước:\n",
    "1. Đọc dữ liệu điểm huấn luyện từ file CSV\n",
    "2. Trích xuất 13 đặc trưng từ ảnh vệ tinh\n",
    "3. Huấn luyện mô hình Random Forest\n",
    "4. Dự đoán nguy cơ ngập lụt trên khu vực nghiên cứu"
   ]
  },
  {
   "cell_type": "code",
   "execution_count": null,
   "id": "5dd6f81f",
   "metadata": {
    "id": "import_libraries"
   },
   "outputs": [],
   "source": [
    "# Cài đặt các thư viện cần thiết\n",
    "!pip install geopandas rasterio scikit-learn pandas numpy"
   ]
  },
  {
   "cell_type": "markdown",
   "id": "8da890f9",
   "metadata": {
    "id": "libraries_explanation"
   },
   "source": [
    "## BƯỚC 1: NHẬP CÁC THƯ VIỆN CẦN THIẾT\n",
    "\n",
    "Trong bước này, chúng ta nhập các thư viện cần thiết để xử lý dữ liệu không gian và huấn luyện mô hình:\n",
    "- `geopandas`: Xử lý dữ liệu địa lý\n",
    "- `rasterio`: Đọc và xử lý ảnh vệ tinh\n",
    "- `scikit-learn`: Huấn luyện mô hình máy học\n",
    "- `pandas`, `numpy`: Xử lý dữ liệu dạng bảng"
   ]
  },
  {
   "cell_type": "code",
   "execution_count": null,
   "id": "ffb84641",
   "metadata": {
    "id": "import_libraries_code"
   },
   "outputs": [],
   "source": [
    "import pandas as pd\n",
    "import numpy as np\n",
    "import geopandas as gpd\n",
    "import rasterio\n",
    "from rasterio.mask import mask\n",
    "from sklearn.ensemble import RandomForestRegressor\n",
    "from sklearn.model_selection import train_test_split\n",
    "from sklearn.metrics import mean_squared_error, r2_score\n",
    "import warnings\n",
    "warnings.filterwarnings('ignore')"
   ]
  },
  {
   "cell_type": "markdown",
   "id": "619900cb",
   "metadata": {
    "id": "load_data_explanation"
   },
   "source": [
    "## BƯỚC 2: ĐỌC DỮ LIỆU ĐIỂM HUẤN LUYỆN\n",
    "\n",
    "Đọc file CSV chứa tọa độ (lat, lon) và nhãn flood (0 hoặc 1) để làm dữ liệu huấn luyện."
   ]
  },
  {
   "cell_type": "code",
   "execution_count": null,
   "id": "7f98e73c",
   "metadata": {
    "id": "load_data_code"
   },
   "outputs": [],
   "source": [
    "# Đọc dữ liệu điểm huấn luyện từ file CSV\n",
    "# Giả sử file có tên 'training_points.csv' với 3 cột: lat, lon, flood\n",
    "df_points = pd.read_csv('training_points.csv')\n",
    "\n",
    "print(\"Thông tin dữ liệu điểm huấn luyện:\")\n",
    "print(f\"Số lượng điểm: {len(df_points)}\")\n",
    "print(f\"Các cột: {list(df_points.columns)}\")\n",
    "print(f\"Phân bố nhãn flood:\")\n",
    "print(df_points['flood'].value_counts())\n",
    "\n",
    "# Hiển thị 5 dòng đầu tiên\n",
    "df_points.head()"
   ]
  },
  {
   "cell_type": "markdown",
   "id": "a8f32a5c",
   "metadata": {
    "id": "load_features_explanation"
   },
   "source": [
    "## BƯỚC 3: TẢI 13 ẢNH ĐẶC TRƯNG\n",
    "\n",
    "Tải 13 ảnh vệ tinh tương ứng với 13 đặc trưng:\n",
    "1. lulc - Loại sử dụng đất\n",
    "2. Density_River - Mật độ sông\n",
    "3. Density_Road - Mật độ đường\n",
    "4. Distan2river - Khoảng cách đến sông\n",
    "5. Distan2road_met - Khoảng cách đến đường (mét)\n",
    "6. aspect - Hướng dốc\n",
    "7. curvature - Độ cong\n",
    "8. dem - Độ cao (DEM)\n",
    "9. flowDir - Hướng dòng chảy\n",
    "10. slope - Độ dốc\n",
    "11. twi - Chỉ số độ ẩm địa hình\n",
    "12. NDVI - Chỉ số thực vật\n",
    "13. rainfall - Lượng mưa"
   ]
  },
  {
   "cell_type": "code",
   "execution_count": null,
   "id": "d38864bc",
   "metadata": {
    "id": "load_features_code"
   },
   "outputs": [],
   "source": [
    "# Danh sách tên các đặc trưng\n",
    "feature_names = [\n",
    "    'lulc', 'Density_River', 'Density_Road', 'Distan2river', 'Distan2road_met',\n",
    "    'aspect', 'curvature', 'dem', 'flowDir', 'slope', 'twi', 'NDVI', 'rainfall'\n",
    "]\n",
    "\n",
    "# Giả sử các ảnh được lưu trong thư mục 'features' với tên tương ứng\n",
    "feature_files = {\n",
    "    'lulc': 'features/lulc.tif',\n",
    "    'Density_River': 'features/Density_River.tif',\n",
    "    'Density_Road': 'features/Density_Road.tif',\n",
    "    'Distan2river': 'features/Distan2river.tif',\n",
    "    'Distan2road_met': 'features/Distan2road_met.tif',\n",
    "    'aspect': 'features/aspect.tif',\n",
    "    'curvature': 'features/curvature.tif',\n",
    "    'dem': 'features/dem.tif',\n",
    "    'flowDir': 'features/flowDir.tif',\n",
    "    'slope': 'features/slope.tif',\n",
    "    'twi': 'features/twi.tif',\n",
    "    'NDVI': 'features/NDVI.tif',\n",
    "    'rainfall': 'features/rainfall.tif'\n",
    "}\n",
    "\n",
    "# Mở thử một ảnh để kiểm tra\n",
    "print(\"Kiểm tra thông tin ảnh đặc trưng:\")\n",
    "with rasterio.open(feature_files['dem']) as src:\n",
    "    print(f\"Kích thước ảnh DEM: {src.height} x {src.width}\")\n",
    "    print(f\"Hệ tọa độ: {src.crs}\")\n",
    "    print(f\"Giới hạn tọa độ: {src.bounds}\")"
   ]
  },
  {
   "cell_type": "markdown",
   "id": "3205b556",
   "metadata": {
    "id": "extract_features_explanation"
   },
   "source": [
    "## BƯỚC 4: TRÍCH XUẤT ĐẶC TRƯNG TỪ ẢNH\n",
    "\n",
    "Với mỗi điểm tọa độ trong dữ liệu huấn luyện, trích xuất giá trị của 13 đặc trưng từ các ảnh tương ứng."
   ]
  },
  {
   "cell_type": "code",
   "execution_count": null,
   "id": "9a1e175d",
   "metadata": {
    "id": "extract_features_code"
   },
   "outputs": [],
   "source": [
    "def extract_features_from_images(df_points, feature_files, feature_names):\n",
    "    \"\"\"\n",
    "    Trích xuất giá trị đặc trưng từ ảnh vệ tinh cho từng điểm\n",
    "    \"\"\"\n",
    "    # Tạo bản sao của dataframe điểm\n",
    "    df_features = df_points.copy()\n",
    "    \n",
    "    # Duyệt qua từng đặc trưng\n",
    "    for feature_name in feature_names:\n",
    "        feature_file = feature_files[feature_name]\n",
    "        print(f\"Đang trích xuất đặc trưng: {feature_name}...\")\n",
    "        \n",
    "        # Mở ảnh đặc trưng\n",
    "        with rasterio.open(feature_file) as src:\n",
    "            # Trích xuất giá trị tại từng tọa độ\n",
    "            values = []\n",
    "            for idx, row in df_points.iterrows():\n",
    "                # Chuyển tọa độ lat/lon sang tọa độ ảnh\n",
    "                x, y = row['lon'], row['lat']\n",
    "                \n",
    "                # Trích xuất giá trị tại tọa độ này\n",
    "                try:\n",
    "                    # Sử dụng sample để lấy giá trị tại tọa độ cụ thể\n",
    "                    for val in src.sample([(x, y)]):\n",
    "                        values.append(val[0] if val[0] is not None else np.nan)\n",
    "                except:\n",
    "                    values.append(np.nan)\n",
    "            \n",
    "            # Thêm cột đặc trưng vào dataframe\n",
    "            df_features[feature_name] = values\n",
    "    \n",
    "    return df_features\n",
    "\n",
    "# Trích xuất đặc trưng cho tất cả các điểm\n",
    "df_training = extract_features_from_images(df_points, feature_files, feature_names)\n",
    "\n",
    "print(\"\\nDữ liệu sau khi trích xuất đặc trưng:\")\n",
    "print(f\"Số cột: {len(df_training.columns)}\")\n",
    "print(f\"Tên các cột: {list(df_training.columns)}\")\n",
    "\n",
    "# Hiển thị một số dòng\n",
    "df_training.head()"
   ]
  },
  {
   "cell_type": "markdown",
   "id": "890cb37d",
   "metadata": {
    "id": "prepare_data_explanation"
   },
   "source": [
    "## BƯỚC 5: TIỀN XỬ LÝ DỮ LIỆU\n",
    "\n",
    "Loại bỏ các điểm có giá trị đặc trưng bị thiếu và chuẩn bị dữ liệu cho huấn luyện."
   ]
  },
  {
   "cell_type": "code",
   "execution_count": null,
   "id": "4c297781",
   "metadata": {
    "id": "prepare_data_code"
   },
   "outputs": [],
   "source": [
    "# Kiểm tra giá trị thiếu\n",
    "print(\"Số lượng giá trị thiếu trong từng cột:\")\n",
    "missing_values = df_training.isnull().sum()\n",
    "print(missing_values[missing_values > 0])\n",
    "\n",
    "# Loại bỏ các điểm có giá trị thiếu\n",
    "df_clean = df_training.dropna()\n",
    "print(f\"\\nSố điểm trước khi loại bỏ giá trị thiếu: {len(df_training)}\")\n",
    "print(f\"Số điểm sau khi loại bỏ giá trị thiếu: {len(df_clean)}\")\n",
    "\n",
    "# Tách đặc trưng và nhãn\n",
    "X = df_clean[feature_names]\n",
    "y = df_clean['flood']\n",
    "\n",
    "print(f\"\\nKích thước dữ liệu huấn luyện:\")\n",
    "print(f\"Đặc trưng (X): {X.shape}\")\n",
    "print(f\"Nhãn (y): {y.shape}\")\n",
    "\n",
    "# Chia dữ liệu thành tập huấn luyện và kiểm tra\n",
    "X_train, X_test, y_train, y_test = train_test_split(X, y, test_size=0.3, random_state=42)\n",
    "\n",
    "print(f\"\\nChia dữ liệu:\")\n",
    "print(f\"Tập huấn luyện: {X_train.shape[0]} điểm\")\n",
    "print(f\"Tập kiểm tra: {X_test.shape[0]} điểm\")"
   ]
  },
  {
   "cell_type": "markdown",
   "id": "dc63225a",
   "metadata": {
    "id": "train_model_explanation"
   },
   "source": [
    "## BƯỚC 6: HUẤN LUYỆN MÔ HÌNH RANDOM FOREST\n",
    "\n",
    "Sử dụng Random Forest Regressor để huấn luyện mô hình dự đoán nguy cơ ngập lụt."
   ]
  },
  {
   "cell_type": "code",
   "execution_count": null,
   "id": "b5401cc9",
   "metadata": {
    "id": "train_model_code"
   },
   "outputs": [],
   "source": [
    "# Khởi tạo mô hình Random Forest với các tham số đã tối ưu\n",
    "rf_model = RandomForestRegressor(\n",
    "    n_estimators=100,        # Số cây trong rừng\n",
    "    max_depth=20,            # Độ sâu tối đa của cây\n",
    "    min_samples_split=10,    # Số mẫu tối thiểu để chia nút\n",
    "    min_samples_leaf=5,      # Số mẫu tối thiểu trong lá\n",
    "    random_state=42,         # Để kết quả có thể tái tạo\n",
    "    n_jobs=-1                # Sử dụng tất cả các lõi CPU\n",
    ")\n",
    "\n",
    "print(\"Đang huấn luyện mô hình Random Forest...\")\n",
    "# Huấn luyện mô hình\n",
    "rf_model.fit(X_train, y_train)\n",
    "print(\"Hoàn thành huấn luyện mô hình!\")\n",
    "\n",
    "# Dự đoán trên tập kiểm tra\n",
    "y_pred = rf_model.predict(X_test)\n",
    "\n",
    "# Đánh giá mô hình\n",
    "mse = mean_squared_error(y_test, y_pred)\n",
    "r2 = r2_score(y_test, y_pred)\n",
    "\n",
    "print(f\"\\nKết quả đánh giá mô hình:\")\n",
    "print(f\"Mean Squared Error: {mse:.4f}\")\n",
    "print(f\"R² Score: {r2:.4f}\")\n",
    "\n",
    "# Hiển thị tầm quan trọng của các đặc trưng\n",
    "feature_importance = pd.DataFrame({\n",
    "    'feature': feature_names,\n",
    "    'importance': rf_model.feature_importances_\n",
    "}).sort_values('importance', ascending=False)\n",
    "\n",
    "print(f\"\\nTầm quan trọng của các đặc trưng:\")\n",
    "print(feature_importance)"
   ]
  },
  {
   "cell_type": "markdown",
   "id": "8a09a732",
   "metadata": {
    "id": "predict_explanation"
   },
   "source": [
    "## BƯỚC 7: DỰ ĐOÁN TRÊN KHU VỰC NGHIÊN CỨU\n",
    "\n",
    "Sử dụng mô hình đã huấn luyện để dự đoán nguy cơ ngập lụt trên toàn bộ khu vực nghiên cứu."
   ]
  },
  {
   "cell_type": "code",
   "execution_count": null,
   "id": "b913c1d6",
   "metadata": {
    "id": "predict_code"
   },
   "outputs": [],
   "source": [
    "# Đọc khu vực nghiên cứu từ file shapefile\n",
    "study_area = gpd.read_file('study_area.shp')\n",
    "print(f\"Thông tin khu vực nghiên cứu:\")\n",
    "print(f\"Hệ tọa độ: {study_area.crs}\")\n",
    "print(f\"Số lượng đối tượng: {len(study_area)}\")\n",
    "\n",
    "# Tạo lưới điểm trên khu vực nghiên cứu để dự đoán\n",
    "def create_prediction_grid(study_area, resolution=100):\n",
    "    \"\"\"\n",
    "    Tạo lưới điểm đều trên khu vực nghiên cứu để dự đoán\n",
    "    \"\"\"\n",
    "    # Lấy giới hạn của khu vực nghiên cứu\n",
    "    bounds = study_area.total_bounds  # [minx, miny, maxx, maxy]\n",
    "    \n",
    "    # Tạo lưới điểm\n",
    "    x_coords = np.arange(bounds[0], bounds[2], resolution)\n",
    "    y_coords = np.arange(bounds[1], bounds[3], resolution)\n",
    "    \n",
    "    # Tạo tất cả các tổ hợp tọa độ\n",
    "    points = []\n",
    "    for x in x_coords:\n",
    "        for y in y_coords:\n",
    "            points.append((x, y))\n",
    "    \n",
    "    # Tạo GeoDataFrame\n",
    "    grid_gdf = gpd.GeoDataFrame(\n",
    "        {'id': range(len(points))},\n",
    "        geometry=[gpd.points_from_xy([p[0]], [p[1]])[0] for p in points],\n",
    "        crs=study_area.crs\n",
    "    )\n",
    "    \n",
    "    # Chỉ giữ lại các điểm nằm trong khu vực nghiên cứu\n",
    "    grid_gdf = gpd.sjoin(grid_gdf, study_area, how='inner', op='within')\n",
    "    \n",
    "    return grid_gdf\n",
    "\n",
    "# Tạo lưới điểm dự đoán\n",
    "print(\"\\nĐang tạo lưới điểm dự đoán...\")\n",
    "prediction_grid = create_prediction_grid(study_area, resolution=30)  # 30m resolution\n",
    "print(f\"Số điểm để dự đoán: {len(prediction_grid)}\")\n",
    "\n",
    "# Trích xuất đặc trưng cho các điểm dự đoán\n",
    "print(\"\\nĐang trích xuất đặc trưng cho các điểm dự đoán...\")\n",
    "df_prediction_points = pd.DataFrame({\n",
    "    'lat': prediction_grid.geometry.y,\n",
    "    'lon': prediction_grid.geometry.x\n",
    "})\n",
    "\n",
    "df_prediction_features = extract_features_from_images(df_prediction_points, feature_files, feature_names)\n",
    "df_prediction_clean = df_prediction_features.dropna()\n",
    "\n",
    "print(f\"Số điểm hợp lệ sau khi trích xuất đặc trưng: {len(df_prediction_clean)}\")\n",
    "\n",
    "# Dự đoán nguy cơ ngập lụt\n",
    "print(\"\\nĐang dự đoán nguy cơ ngập lụt...\")\n",
    "X_predict = df_prediction_clean[feature_names]\n",
    "flood_probabilities = rf_model.predict(X_predict)\n",
    "\n",
    "print(f\"Dự đoán hoàn tất!\")\n",
    "print(f\"Phạm vi xác suất ngập: {flood_probabilities.min():.4f} - {flood_probabilities.max():.4f}\")\n",
    "\n",
    "# Thêm kết quả dự đoán vào dataframe\n",
    "df_prediction_clean['flood_probability'] = flood_probabilities\n",
    "\n",
    "# Hiển thị một số kết quả\n",
    "print(\"\\nMột số kết quả dự đoán:\")\n",
    "df_prediction_clean[['lat', 'lon', 'flood_probability']].head(10)"
   ]
  },
  {
   "cell_type": "markdown",
   "id": "51bf4dc8",
   "metadata": {
    "id": "export_results_explanation"
   },
   "source": [
    "## BƯỚC 8: XUẤT KẾT QUẢ\n",
    "\n",
    "Lưu kết quả dự đoán vào file CSV để sử dụng sau này."
   ]
  },
  {
   "cell_type": "code",
   "execution_count": null,
   "id": "a493a50e",
   "metadata": {
    "id": "export_results_code"
   },
   "outputs": [],
   "source": [
    "# Lưu kết quả dự đoán vào file CSV\n",
    "output_file = 'flood_prediction_results.csv'\n",
    "df_prediction_clean[['lat', 'lon', 'flood_probability']].to_csv(output_file, index=False)\n",
    "print(f\"Kết quả đã được lưu vào file: {output_file}\")\n",
    "\n",
    "# Lưu mô hình để sử dụng sau này\n",
    "import joblib\n",
    "model_file = 'flood_prediction_model.pkl'\n",
    "joblib.dump(rf_model, model_file)\n",
    "print(f\"Mô hình đã được lưu vào file: {model_file}\")\n",
    "\n",
    "print(\"\\n===== HOÀN THÀNH =====\")\n",
    "print(\"Mô hình dự báo nguy cơ ngập lụt đã được huấn luyện và chạy dự đoán thành công!\")"
   ]
  }
 ],
 "metadata": {
  "language_info": {
   "name": "python"
  }
 },
 "nbformat": 4,
 "nbformat_minor": 5
}
